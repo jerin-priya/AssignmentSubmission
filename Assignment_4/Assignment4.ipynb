{
  "nbformat": 4,
  "nbformat_minor": 0,
  "metadata": {
    "colab": {
      "provenance": []
    },
    "kernelspec": {
      "name": "python3",
      "display_name": "Python 3"
    },
    "language_info": {
      "name": "python"
    }
  },
  "cells": [
    {
      "cell_type": "markdown",
      "source": [
        "# Install the necessary libraries"
      ],
      "metadata": {
        "id": "I8hrfv5lcdZM"
      }
    },
    {
      "cell_type": "code",
      "execution_count": 1,
      "metadata": {
        "colab": {
          "base_uri": "https://localhost:8080/"
        },
        "id": "drh2O3vEb46b",
        "outputId": "76be71cc-db3a-4975-99f6-76dbacb515a5"
      },
      "outputs": [
        {
          "output_type": "stream",
          "name": "stdout",
          "text": [
            "Collecting pycryptodome\n",
            "  Downloading pycryptodome-3.20.0-cp35-abi3-manylinux_2_17_x86_64.manylinux2014_x86_64.whl (2.1 MB)\n",
            "\u001b[2K     \u001b[90m━━━━━━━━━━━━━━━━━━━━━━━━━━━━━━━━━━━━━━━━\u001b[0m \u001b[32m2.1/2.1 MB\u001b[0m \u001b[31m9.2 MB/s\u001b[0m eta \u001b[36m0:00:00\u001b[0m\n",
            "\u001b[?25hInstalling collected packages: pycryptodome\n",
            "Successfully installed pycryptodome-3.20.0\n"
          ]
        }
      ],
      "source": [
        "!pip install pycryptodome"
      ]
    },
    {
      "cell_type": "code",
      "source": [
        "from Crypto.Cipher import AES, PKCS1_OAEP\n",
        "from Crypto.PublicKey import RSA\n",
        "from Crypto.Signature import pkcs1_15\n",
        "from Crypto.Hash import SHA256\n",
        "from Crypto.Random import get_random_bytes\n",
        "import time\n",
        "import os"
      ],
      "metadata": {
        "id": "xqEoW5HxcRTz"
      },
      "execution_count": 2,
      "outputs": []
    },
    {
      "cell_type": "markdown",
      "source": [
        "# Function to generate and store AES keys"
      ],
      "metadata": {
        "id": "uVdu5EHectwA"
      }
    },
    {
      "cell_type": "code",
      "source": [
        "def generate_aes_keys():\n",
        "    key_128 = get_random_bytes(16)\n",
        "    key_256 = get_random_bytes(32)\n",
        "    with open(\"aes_key_128.key\", \"wb\") as f:\n",
        "        f.write(key_128)\n",
        "    with open(\"aes_key_256.key\", \"wb\") as f:\n",
        "        f.write(key_256)"
      ],
      "metadata": {
        "id": "YV5Foc1wcjXb"
      },
      "execution_count": 3,
      "outputs": []
    },
    {
      "cell_type": "markdown",
      "source": [
        "# Function to generate and store RSA keys"
      ],
      "metadata": {
        "id": "0255c4Zbc2vJ"
      }
    },
    {
      "cell_type": "code",
      "source": [
        "def generate_rsa_keys():\n",
        "    key = RSA.generate(2048)\n",
        "    private_key = key.export_key()\n",
        "    public_key = key.publickey().export_key()\n",
        "    with open(\"rsa_private.key\", \"wb\") as f:\n",
        "        f.write(private_key)\n",
        "    with open(\"rsa_public.key\", \"wb\") as f:\n",
        "        f.write(public_key)"
      ],
      "metadata": {
        "id": "NFOfq8l6cxMg"
      },
      "execution_count": null,
      "outputs": []
    },
    {
      "cell_type": "markdown",
      "source": [
        "# Function to pad data for AES encryption"
      ],
      "metadata": {
        "id": "9QZ2s4TyfjIM"
      }
    },
    {
      "cell_type": "code",
      "source": [
        "def pad(data):\n",
        "    padding_length = 16 - (len(data) % 16)\n",
        "    return data + bytes([padding_length] * padding_length)"
      ],
      "metadata": {
        "id": "L5mnvm1ufki-"
      },
      "execution_count": 15,
      "outputs": []
    },
    {
      "cell_type": "markdown",
      "source": [
        "# Function to unpad data after AES decryption"
      ],
      "metadata": {
        "id": "wZdPLuZefoKQ"
      }
    },
    {
      "cell_type": "code",
      "source": [
        "def unpad(data):\n",
        "    padding_length = data[-1]\n",
        "    return data[:-padding_length]"
      ],
      "metadata": {
        "id": "H75vxjDMfq4V"
      },
      "execution_count": 16,
      "outputs": []
    },
    {
      "cell_type": "markdown",
      "source": [
        "# AES Encryption"
      ],
      "metadata": {
        "id": "Ka6YTWJadDmh"
      }
    },
    {
      "cell_type": "code",
      "source": [
        "def aes_encrypt(mode, key_length):\n",
        "    if key_length == 128:\n",
        "        key_file = \"aes_key_128.key\"\n",
        "    else:\n",
        "        key_file = \"aes_key_256.key\"\n",
        "\n",
        "    with open(key_file, \"rb\") as f:\n",
        "        key = f.read()\n",
        "\n",
        "    data = input(\"Enter data to encrypt: \").encode()\n",
        "\n",
        "    if mode == \"ECB\":\n",
        "        cipher = AES.new(key, AES.MODE_ECB)\n",
        "        ciphertext = cipher.encrypt(data.ljust(16))\n",
        "    elif mode == \"CFB\":\n",
        "        cipher = AES.new(key, AES.MODE_CFB)\n",
        "        ciphertext = cipher.encrypt(data)\n",
        "\n",
        "    with open(\"aes_encrypted.bin\", \"wb\") as f:\n",
        "        f.write(ciphertext)\n",
        "\n",
        "    print(\"Data encrypted and saved to aes_encrypted.bin\")"
      ],
      "metadata": {
        "id": "j8pEKg_0c7E8"
      },
      "execution_count": 4,
      "outputs": []
    },
    {
      "cell_type": "markdown",
      "source": [
        "# AES Decryption"
      ],
      "metadata": {
        "id": "swUOiGYkdLZP"
      }
    },
    {
      "cell_type": "code",
      "source": [
        "def aes_decrypt(mode, key_length):\n",
        "    if key_length == 128:\n",
        "        key_file = \"aes_key_128.key\"\n",
        "    else:\n",
        "        key_file = \"aes_key_256.key\"\n",
        "\n",
        "    with open(key_file, \"rb\") as f:\n",
        "        key = f.read()\n",
        "\n",
        "    with open(\"aes_encrypted.bin\", \"rb\") as f:\n",
        "        ciphertext = f.read()\n",
        "\n",
        "    if mode == \"ECB\":\n",
        "        cipher = AES.new(key, AES.MODE_ECB)\n",
        "        plaintext = cipher.decrypt(ciphertext).strip()\n",
        "    elif mode == \"CFB\":\n",
        "        cipher = AES.new(key, AES.MODE_CFB)\n",
        "        plaintext = cipher.decrypt(ciphertext)\n",
        "\n",
        "    print(\"Decrypted data:\", plaintext.decode())"
      ],
      "metadata": {
        "id": "rG6bvSp6dOvv"
      },
      "execution_count": 5,
      "outputs": []
    },
    {
      "cell_type": "markdown",
      "source": [
        "# RSA Encryption"
      ],
      "metadata": {
        "id": "RRhOZylZdW9y"
      }
    },
    {
      "cell_type": "code",
      "source": [
        "def rsa_encrypt():\n",
        "    with open(\"rsa_public.key\", \"rb\") as f:\n",
        "        public_key = RSA.import_key(f.read())\n",
        "\n",
        "    data = input(\"Enter data to encrypt: \").encode()\n",
        "    cipher = PKCS1_OAEP.new(public_key)\n",
        "    ciphertext = cipher.encrypt(data)\n",
        "\n",
        "    with open(\"rsa_encrypted.bin\", \"wb\") as f:\n",
        "        f.write(ciphertext)\n",
        "\n",
        "    print(\"Data encrypted and saved to rsa_encrypted.bin\")"
      ],
      "metadata": {
        "id": "soxhfQjHd3Iw"
      },
      "execution_count": 6,
      "outputs": []
    },
    {
      "cell_type": "markdown",
      "source": [
        "# RSA Decryption"
      ],
      "metadata": {
        "id": "vrmJMQj9d5lB"
      }
    },
    {
      "cell_type": "code",
      "source": [
        "def rsa_decrypt():\n",
        "    with open(\"rsa_private.key\", \"rb\") as f:\n",
        "        private_key = RSA.import_key(f.read())\n",
        "\n",
        "    with open(\"rsa_encrypted.bin\", \"rb\") as f:\n",
        "        ciphertext = f.read()\n",
        "\n",
        "    cipher = PKCS1_OAEP.new(private_key)\n",
        "    plaintext = cipher.decrypt(ciphertext)\n",
        "\n",
        "    print(\"Decrypted data:\", plaintext.decode())"
      ],
      "metadata": {
        "id": "hNjdxokTd8K6"
      },
      "execution_count": 7,
      "outputs": []
    },
    {
      "cell_type": "markdown",
      "source": [
        "# RSA Signature"
      ],
      "metadata": {
        "id": "iqwinL7HeAIM"
      }
    },
    {
      "cell_type": "code",
      "source": [
        "def rsa_sign():\n",
        "    with open(\"rsa_private.key\", \"rb\") as f:\n",
        "        private_key = RSA.import_key(f.read())\n",
        "\n",
        "    data = input(\"Enter data to sign: \").encode()\n",
        "    h = SHA256.new(data)\n",
        "    signature = pkcs1_15.new(private_key).sign(h)\n",
        "\n",
        "    with open(\"rsa_signature.bin\", \"wb\") as f:\n",
        "        f.write(signature)\n",
        "\n",
        "    print(\"Signature generated and saved to rsa_signature.bin\")\n"
      ],
      "metadata": {
        "id": "4pP8myBReC3z"
      },
      "execution_count": 8,
      "outputs": []
    },
    {
      "cell_type": "markdown",
      "source": [
        "# RSA Signature Verification"
      ],
      "metadata": {
        "id": "Yji2KlLteHQj"
      }
    },
    {
      "cell_type": "code",
      "source": [
        "def rsa_verify():\n",
        "    with open(\"rsa_public.key\", \"rb\") as f:\n",
        "        public_key = RSA.import_key(f.read())\n",
        "\n",
        "    data = input(\"Enter data to verify: \").encode()\n",
        "    with open(\"rsa_signature.bin\", \"rb\") as f:\n",
        "        signature = f.read()\n",
        "\n",
        "    h = SHA256.new(data)\n",
        "    try:\n",
        "        pkcs1_15.new(public_key).verify(h, signature)\n",
        "        print(\"Signature is valid.\")\n",
        "    except (ValueError, TypeError):\n",
        "        print(\"Signature is invalid.\")\n"
      ],
      "metadata": {
        "id": "GN6LyZVVeJ5o"
      },
      "execution_count": 9,
      "outputs": []
    },
    {
      "cell_type": "markdown",
      "source": [
        "# SHA-256 Hashing"
      ],
      "metadata": {
        "id": "Ax1s8AvUeOPj"
      }
    },
    {
      "cell_type": "code",
      "source": [
        "def sha256_hash():\n",
        "    data = input(\"Enter data to hash: \").encode()\n",
        "    h = SHA256.new(data)\n",
        "    print(\"SHA-256 Hash:\", h.hexdigest())"
      ],
      "metadata": {
        "id": "Hi1zlSyheQ4B"
      },
      "execution_count": 10,
      "outputs": []
    },
    {
      "cell_type": "markdown",
      "source": [
        "# Measure execution time for crypto operations"
      ],
      "metadata": {
        "id": "qJ0PaTBWeUtg"
      }
    },
    {
      "cell_type": "code",
      "source": [
        "def measure_execution_time():\n",
        "    data = b\"This is a test data for encryption and decryption performance measurement.\"\n",
        "\n",
        "    # AES ECB 128-bit\n",
        "    key = get_random_bytes(16)\n",
        "    cipher = AES.new(key, AES.MODE_ECB)\n",
        "    start_time = time.time()\n",
        "    cipher.encrypt(data.ljust(16))\n",
        "    end_time = time.time()\n",
        "    print(f\"AES ECB 128-bit: {end_time - start_time} seconds\")"
      ],
      "metadata": {
        "id": "-JBZIDfUeXdT"
      },
      "execution_count": 11,
      "outputs": []
    },
    {
      "cell_type": "markdown",
      "source": [
        "# AES CFB 256-bit"
      ],
      "metadata": {
        "id": "QYKLuFHYebaa"
      }
    },
    {
      "cell_type": "code",
      "source": [
        " key = get_random_bytes(32)  # Generates a random 32-byte key\n",
        "cipher = AES.new(key, AES.MODE_CFB)  # Creates a new AES cipher object in CFB mode\n",
        "data = b'This is a test data to encrypt'  # Example data to encrypt\n",
        "\n",
        "start_time = time.time()  # Records the start time\n",
        "cipher.encrypt(data)  # Encrypts the data\n",
        "end_time = time.time()  # Records the end time\n",
        "\n",
        "print(f\"AES CFB 256-bit: {end_time - start_time} seconds\")"
      ],
      "metadata": {
        "colab": {
          "base_uri": "https://localhost:8080/"
        },
        "id": "_FRxcTcLetZb",
        "outputId": "4ab0fd08-35f1-40b4-e473-352341626dc5"
      },
      "execution_count": 18,
      "outputs": [
        {
          "output_type": "stream",
          "name": "stdout",
          "text": [
            "AES CFB 256-bit: 0.0046939849853515625 seconds\n"
          ]
        }
      ]
    },
    {
      "cell_type": "markdown",
      "source": [
        "# RSA Encryption"
      ],
      "metadata": {
        "id": "uCeKuQQpgdYB"
      }
    },
    {
      "cell_type": "code",
      "source": [
        "key = RSA.generate(2048)\n",
        "public_key = key.publickey()\n",
        "\n",
        "# Create cipher object\n",
        "cipher = PKCS1_OAEP.new(public_key)\n",
        "\n",
        "# Data to be encrypted\n",
        "data = b\"Your data to encrypt\"\n",
        "\n",
        "# Measure encryption time\n",
        "start_time = time.time()\n",
        "cipher.encrypt(data)\n",
        "end_time = time.time()\n",
        "\n",
        "print(f\"RSA Encryption: {end_time - start_time} seconds\")"
      ],
      "metadata": {
        "colab": {
          "base_uri": "https://localhost:8080/"
        },
        "id": "EueB8ULagkZ2",
        "outputId": "127db43a-f5ee-4b4f-8849-191cdd690b98"
      },
      "execution_count": 20,
      "outputs": [
        {
          "output_type": "stream",
          "name": "stdout",
          "text": [
            "RSA Encryption: 0.0015492439270019531 seconds\n"
          ]
        }
      ]
    },
    {
      "cell_type": "markdown",
      "source": [
        " # RSA Signature"
      ],
      "metadata": {
        "id": "E90uX18ahAbV"
      }
    },
    {
      "cell_type": "code",
      "source": [
        "# Generate RSA key pair\n",
        "key = RSA.generate(2048)\n",
        "private_key = key.export_key()\n",
        "\n",
        "# Data to be signed\n",
        "data = b\"Your data to sign\"\n",
        "\n",
        "# Create hash of the data\n",
        "h = SHA256.new(data)\n",
        "\n",
        "# Measure signature time\n",
        "start_time = time.time()\n",
        "pkcs1_15.new(key).sign(h)\n",
        "end_time = time.time()\n",
        "\n",
        "print(f\"RSA Signature: {end_time - start_time} seconds\")"
      ],
      "metadata": {
        "colab": {
          "base_uri": "https://localhost:8080/"
        },
        "id": "JkfnuwI-hEXj",
        "outputId": "35460a13-192d-4a23-cb30-58637dfa728e"
      },
      "execution_count": 22,
      "outputs": [
        {
          "output_type": "stream",
          "name": "stdout",
          "text": [
            "RSA Signature: 0.0025887489318847656 seconds\n"
          ]
        }
      ]
    },
    {
      "cell_type": "markdown",
      "source": [
        "# Main function"
      ],
      "metadata": {
        "id": "ZgyfFo2WhS2A"
      }
    },
    {
      "cell_type": "code",
      "source": [
        "def main():\n",
        "    generate_aes_keys()\n",
        "    generate_rsa_keys()\n",
        "\n",
        "    while True:\n",
        "        print(\"\\nChoose an option:\")\n",
        "        print(\"1. AES Encryption\")\n",
        "        print(\"2. AES Decryption\")\n",
        "        print(\"3. RSA Encryption\")\n",
        "        print(\"4. RSA Decryption\")\n",
        "        print(\"5. RSA Signature\")\n",
        "        print(\"6. RSA Signature Verification\")\n",
        "        print(\"7. SHA-256 Hashing\")\n",
        "        print(\"8. Measure Execution Time\")\n",
        "        print(\"9. Exit\")\n",
        "        choice = input(\"Enter your choice: \")\n",
        "\n",
        "        if choice == \"1\":\n",
        "            mode = input(\"Enter mode (ECB/CFB): \")\n",
        "            key_length = int(input(\"Enter key length (128/256): \"))\n",
        "            aes_encrypt(mode, key_length)\n",
        "        elif choice == \"2\":\n",
        "            mode = input(\"Enter mode (ECB/CFB): \")\n",
        "            key_length = int(input(\"Enter key length (128/256): \"))\n",
        "            aes_decrypt(mode, key_length)\n",
        "        elif choice == \"3\":\n",
        "            rsa_encrypt()\n",
        "        elif choice == \"4\":\n",
        "            rsa_decrypt()\n",
        "        elif choice == \"5\":\n",
        "            rsa_sign()\n",
        "        elif choice == \"6\":\n",
        "            rsa_verify()\n",
        "        elif choice == \"7\":\n",
        "            sha256_hash()\n",
        "        elif choice == \"8\":\n",
        "            measure_execution_time()\n",
        "        elif choice == \"9\":\n",
        "            break\n",
        "        else:\n",
        "            print(\"Invalid choice. Please try again.\")\n",
        "\n",
        "if __name__ == \"__main__\":\n",
        "    main()"
      ],
      "metadata": {
        "colab": {
          "base_uri": "https://localhost:8080/",
          "height": 297
        },
        "id": "yJ2y7PCKhV0k",
        "outputId": "435a8e98-113a-4379-a1e1-22c2d0084dfd"
      },
      "execution_count": 23,
      "outputs": [
        {
          "output_type": "error",
          "ename": "NameError",
          "evalue": "name 'generate_rsa_keys' is not defined",
          "traceback": [
            "\u001b[0;31m---------------------------------------------------------------------------\u001b[0m",
            "\u001b[0;31mNameError\u001b[0m                                 Traceback (most recent call last)",
            "\u001b[0;32m<ipython-input-23-7ce731d24674>\u001b[0m in \u001b[0;36m<cell line: 43>\u001b[0;34m()\u001b[0m\n\u001b[1;32m     42\u001b[0m \u001b[0;34m\u001b[0m\u001b[0m\n\u001b[1;32m     43\u001b[0m \u001b[0;32mif\u001b[0m \u001b[0m__name__\u001b[0m \u001b[0;34m==\u001b[0m \u001b[0;34m\"__main__\"\u001b[0m\u001b[0;34m:\u001b[0m\u001b[0;34m\u001b[0m\u001b[0;34m\u001b[0m\u001b[0m\n\u001b[0;32m---> 44\u001b[0;31m     \u001b[0mmain\u001b[0m\u001b[0;34m(\u001b[0m\u001b[0;34m)\u001b[0m\u001b[0;34m\u001b[0m\u001b[0;34m\u001b[0m\u001b[0m\n\u001b[0m",
            "\u001b[0;32m<ipython-input-23-7ce731d24674>\u001b[0m in \u001b[0;36mmain\u001b[0;34m()\u001b[0m\n\u001b[1;32m      1\u001b[0m \u001b[0;32mdef\u001b[0m \u001b[0mmain\u001b[0m\u001b[0;34m(\u001b[0m\u001b[0;34m)\u001b[0m\u001b[0;34m:\u001b[0m\u001b[0;34m\u001b[0m\u001b[0;34m\u001b[0m\u001b[0m\n\u001b[1;32m      2\u001b[0m     \u001b[0mgenerate_aes_keys\u001b[0m\u001b[0;34m(\u001b[0m\u001b[0;34m)\u001b[0m\u001b[0;34m\u001b[0m\u001b[0;34m\u001b[0m\u001b[0m\n\u001b[0;32m----> 3\u001b[0;31m     \u001b[0mgenerate_rsa_keys\u001b[0m\u001b[0;34m(\u001b[0m\u001b[0;34m)\u001b[0m\u001b[0;34m\u001b[0m\u001b[0;34m\u001b[0m\u001b[0m\n\u001b[0m\u001b[1;32m      4\u001b[0m \u001b[0;34m\u001b[0m\u001b[0m\n\u001b[1;32m      5\u001b[0m     \u001b[0;32mwhile\u001b[0m \u001b[0;32mTrue\u001b[0m\u001b[0;34m:\u001b[0m\u001b[0;34m\u001b[0m\u001b[0;34m\u001b[0m\u001b[0m\n",
            "\u001b[0;31mNameError\u001b[0m: name 'generate_rsa_keys' is not defined"
          ]
        }
      ]
    }
  ]
}